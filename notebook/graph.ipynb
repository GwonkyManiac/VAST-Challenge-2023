{
 "cells": [
  {
   "cell_type": "code",
   "execution_count": null,
   "metadata": {},
   "outputs": [],
   "source": [
    "## Working with the dataset as a node graph instead the typical dataframe way\n",
    "\n",
    "import json\n",
    "import networkx as nx\n",
    "from networkx.readwrite import json_graph\n",
    "import networkx as nx\n",
    "\n",
    "\n",
    "# Specify the encoding parameter when opening the file\n",
    "with open('../dataset/MC1.json', encoding='utf-8') as f:\n",
    "    data = json.load(f)\n",
    "\n",
    "graph = nx.node_link_graph(data)\n",
    "\n",
    "# Convert the graph to JSON data with UTF-8 encoding\n",
    "json_data = json_graph.node_link_data(graph)\n"
   ]
  },
  {
   "cell_type": "code",
   "execution_count": 6,
   "metadata": {},
   "outputs": [],
   "source": [
    "\n",
    "# Remove duplicate edges by converting the graph to a MultiGraph\n",
    "multi_graph = nx.MultiGraph(graph)\n",
    "\n",
    "# Convert the MultiGraph to a standard graph\n",
    "graph_without_duplicates = nx.Graph(multi_graph)\n",
    "\n",
    "# Convert the graph to JSON data\n",
    "json_data = json_graph.node_link_data(graph_without_duplicates)\n"
   ]
  },
  {
   "cell_type": "code",
   "execution_count": 3,
   "metadata": {},
   "outputs": [],
   "source": [
    "\n",
    "# Save the JSON data to a file with UTF-8 encoding\n",
    "with open('exported_graph.json', 'w', encoding='utf-8') as json_file:\n",
    "    json.dump(json_data, json_file, ensure_ascii=False, indent=4)"
   ]
  }
 ],
 "metadata": {
  "kernelspec": {
   "display_name": "Python 3 (ipykernel)",
   "language": "python",
   "name": "python3"
  }
 },
 "nbformat": 4,
 "nbformat_minor": 2
}
