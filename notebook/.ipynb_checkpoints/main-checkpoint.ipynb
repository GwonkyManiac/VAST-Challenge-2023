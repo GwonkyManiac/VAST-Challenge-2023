{
 "cells": [
  {
   "cell_type": "markdown",
   "id": "788cf343-e02c-4ae4-8ecb-e4e3c1a5e61a",
   "metadata": {},
   "source": [
    "## Question 1\n",
    "\n",
    "Entities to investigate\r\n",
    "\r\n",
    "Mar de la Vida OJSC\r\n",
    "\r\n",
    "979893388\r\n",
    "\r\n",
    "Oceanfront Oasis Inc Carrie\n",
    "\r\n",
    "\r\n",
    "8327\n",
    "Use visual analytics to dynamically display and explore context around the suspected entities listed above. What did you learn about each one? Can you connect them to illegal fishing? Provide evidence for or against the case that each entity is involved in illegal fishing and use visual analytics to express confidence in your conclusions."
   ]
  },
  {
   "cell_type": "code",
   "execution_count": 6,
   "id": "283ed751-fd4c-49bc-8344-ec3ac487d675",
   "metadata": {},
   "outputs": [],
   "source": [
    "import pandas as pd\n",
    "import json\n",
    "\n",
    "# Specify the encoding parameter when opening the file\n",
    "with open('dataset/MC1.json', encoding='utf-8') as f:\n",
    "    data = json.load(f)\n",
    "\n",
    "# Convert JSON to DataFrame\n",
    "df = pd.json_normalize(data)"
   ]
  },
  {
   "cell_type": "code",
   "execution_count": 18,
   "id": "03902218-b894-4166-b1a3-5f01c49b14fd",
   "metadata": {},
   "outputs": [
    {
     "data": {
      "text/html": [
       "<div>\n",
       "<style scoped>\n",
       "    .dataframe tbody tr th:only-of-type {\n",
       "        vertical-align: middle;\n",
       "    }\n",
       "\n",
       "    .dataframe tbody tr th {\n",
       "        vertical-align: top;\n",
       "    }\n",
       "\n",
       "    .dataframe thead th {\n",
       "        text-align: right;\n",
       "    }\n",
       "</style>\n",
       "<table border=\"1\" class=\"dataframe\">\n",
       "  <thead>\n",
       "    <tr style=\"text-align: right;\">\n",
       "      <th></th>\n",
       "      <th>directed</th>\n",
       "      <th>multigraph</th>\n",
       "      <th>nodes</th>\n",
       "      <th>links</th>\n",
       "    </tr>\n",
       "  </thead>\n",
       "  <tbody>\n",
       "    <tr>\n",
       "      <th>0</th>\n",
       "      <td>True</td>\n",
       "      <td>True</td>\n",
       "      <td>[{'type': 'company', 'dataset': 'MC1', 'countr...</td>\n",
       "      <td>[{'type': 'ownership', 'weight': 0.90013963, '...</td>\n",
       "    </tr>\n",
       "  </tbody>\n",
       "</table>\n",
       "</div>"
      ],
      "text/plain": [
       "   directed  multigraph                                              nodes  \\\n",
       "0      True        True  [{'type': 'company', 'dataset': 'MC1', 'countr...   \n",
       "\n",
       "                                               links  \n",
       "0  [{'type': 'ownership', 'weight': 0.90013963, '...  "
      ]
     },
     "execution_count": 18,
     "metadata": {},
     "output_type": "execute_result"
    }
   ],
   "source": [
    "df.head(1)"
   ]
  },
  {
   "cell_type": "code",
   "execution_count": 32,
   "id": "7c6e2363-adca-454c-aca5-cdc64b24fc31",
   "metadata": {},
   "outputs": [
    {
     "name": "stdout",
     "output_type": "stream",
     "text": [
      "<class 'pandas.core.frame.DataFrame'>\n",
      "RangeIndex: 1 entries, 0 to 0\n",
      "Data columns (total 4 columns):\n",
      " #   Column      Non-Null Count  Dtype \n",
      "---  ------      --------------  ----- \n",
      " 0   directed    1 non-null      bool  \n",
      " 1   multigraph  1 non-null      bool  \n",
      " 2   nodes       1 non-null      object\n",
      " 3   links       1 non-null      object\n",
      "dtypes: bool(2), object(2)\n",
      "memory usage: 150.0+ bytes\n",
      "None\n"
     ]
    }
   ],
   "source": [
    "print(df.info())\n"
   ]
  },
  {
   "cell_type": "code",
   "execution_count": 33,
   "id": "444fd683-1542-470f-9f3d-c5de0848fd2a",
   "metadata": {},
   "outputs": [
    {
     "name": "stdout",
     "output_type": "stream",
     "text": [
      "0    [{'type': 'company', 'dataset': 'MC1', 'countr...\n",
      "Name: nodes, dtype: object\n"
     ]
    }
   ],
   "source": [
    "print(df['nodes'].head(1))\n"
   ]
  },
  {
   "cell_type": "code",
   "execution_count": 52,
   "id": "c6946a75-d02a-4a64-b08e-c79039f5562b",
   "metadata": {},
   "outputs": [
    {
     "name": "stdout",
     "output_type": "stream",
     "text": [
      "0    {'type': 'company', 'dataset': 'MC1', 'country...\n",
      "Name: 0, dtype: object\n"
     ]
    }
   ],
   "source": [
    "nodes_df = pd.json_normalize(df['nodes'])\n",
    "type = nodes_df[0]\n",
    "print(type)"
   ]
  },
  {
   "cell_type": "code",
   "execution_count": 22,
   "id": "068790af-301c-476f-bfcc-27b2a6987d13",
   "metadata": {},
   "outputs": [],
   "source": []
  }
 ],
 "metadata": {
  "kernelspec": {
   "display_name": "Python 3 (ipykernel)",
   "language": "python",
   "name": "python3"
  },
  "language_info": {
   "codemirror_mode": {
    "name": "ipython",
    "version": 3
   },
   "file_extension": ".py",
   "mimetype": "text/x-python",
   "name": "python",
   "nbconvert_exporter": "python",
   "pygments_lexer": "ipython3",
   "version": "3.11.3"
  }
 },
 "nbformat": 4,
 "nbformat_minor": 5
}
